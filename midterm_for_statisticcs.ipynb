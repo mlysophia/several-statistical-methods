{
 "cells": [
  {
   "cell_type": "markdown",
   "metadata": {},
   "source": [
    "# 现代统计方法期中报告"
   ]
  },
  {
   "cell_type": "markdown",
   "metadata": {},
   "source": [
    "**202228000206058 孟丽媛**"
   ]
  },
  {
   "cell_type": "code",
   "execution_count": 1,
   "metadata": {},
   "outputs": [],
   "source": [
    "import math\n",
    "import numpy as np\n",
    "import pandas as pd\n",
    "import matplotlib.pyplot as plt"
   ]
  },
  {
   "cell_type": "markdown",
   "metadata": {},
   "source": [
    "**1. 用拒绝接受法产生500个服从Beta(2,9)的样本，作直方图并给出接受率。**"
   ]
  },
  {
   "cell_type": "code",
   "execution_count": 2,
   "metadata": {},
   "outputs": [],
   "source": [
    "def sample_ar_beta(alpha,beta,N):\n",
    "    c = math.factorial(alpha+beta-1) / (math.factorial(alpha-1)*math.factorial(beta-1))\n",
    "    N = math.ceil(N * c)\n",
    "    x = np.random.rand(N)\n",
    "    ac_bound = x**(alpha-1) * (1-x)**(beta-1)\n",
    "    u = np.random.rand(N)\n",
    "    sample = x[u<ac_bound]\n",
    "    return len(sample), sample, 1/c"
   ]
  },
  {
   "cell_type": "code",
   "execution_count": 3,
   "metadata": {},
   "outputs": [],
   "source": [
    "len_beta_sample, beta_sample, ar_rate = sample_ar_beta(2,9,500)"
   ]
  },
  {
   "cell_type": "code",
   "execution_count": 4,
   "metadata": {},
   "outputs": [
    {
     "data": {
      "text/plain": [
       "(543, 0.011111111111111112)"
      ]
     },
     "execution_count": 4,
     "metadata": {},
     "output_type": "execute_result"
    }
   ],
   "source": [
    "len_beta_sample, ar_rate"
   ]
  },
  {
   "cell_type": "code",
   "execution_count": 1,
   "metadata": {},
   "outputs": [
    {
     "ename": "NameError",
     "evalue": "name 'plt' is not defined",
     "output_type": "error",
     "traceback": [
      "\u001b[1;31m---------------------------------------------------------------------------\u001b[0m",
      "\u001b[1;31mNameError\u001b[0m                                 Traceback (most recent call last)",
      "\u001b[1;32m<ipython-input-1-235080855ce3>\u001b[0m in \u001b[0;36m<module>\u001b[1;34m\u001b[0m\n\u001b[1;32m----> 1\u001b[1;33m \u001b[0mplt\u001b[0m\u001b[1;33m.\u001b[0m\u001b[0mhist\u001b[0m\u001b[1;33m(\u001b[0m\u001b[0mbeta_sample\u001b[0m\u001b[1;33m[\u001b[0m\u001b[1;33m:\u001b[0m\u001b[1;36m500\u001b[0m\u001b[1;33m]\u001b[0m\u001b[1;33m,\u001b[0m\u001b[0mbins\u001b[0m\u001b[1;33m=\u001b[0m\u001b[1;36m15\u001b[0m\u001b[1;33m,\u001b[0m\u001b[0mdensity\u001b[0m\u001b[1;33m=\u001b[0m\u001b[1;32mTrue\u001b[0m\u001b[1;33m)\u001b[0m\u001b[1;33m\u001b[0m\u001b[1;33m\u001b[0m\u001b[0m\n\u001b[0m\u001b[0;32m      2\u001b[0m \u001b[0mplt\u001b[0m\u001b[1;33m.\u001b[0m\u001b[0mshow\u001b[0m\u001b[1;33m(\u001b[0m\u001b[1;33m)\u001b[0m\u001b[1;33m\u001b[0m\u001b[1;33m\u001b[0m\u001b[0m\n",
      "\u001b[1;31mNameError\u001b[0m: name 'plt' is not defined"
     ]
    }
   ],
   "source": [
    "plt.hist(beta_sample[:500],bins=25,density=True)\n",
    "plt.title(\"Beta(2,9)\")\n",
    "plt.ylabel(\"sample density\")\n",
    "plt.show()"
   ]
  },
  {
   "cell_type": "markdown",
   "metadata": {},
   "source": [
    "**2. 用接受拒绝法产生1000个二维正态分布样本，比较样本相关系数与实际的差异。**"
   ]
  },
  {
   "cell_type": "code",
   "execution_count": 6,
   "metadata": {},
   "outputs": [],
   "source": [
    "def sample_inverse_de(mu,sigma,N):\n",
    "    u = np.random.rand(N)\n",
    "    y = np.array([(sigma*np.log(2*x) + mu) if x<0.5 else (mu - sigma*np.log(2-2*x)) for x in u])\n",
    "    return y"
   ]
  },
  {
   "cell_type": "code",
   "execution_count": 7,
   "metadata": {},
   "outputs": [],
   "source": [
    "def sample_ar_gaussian_2d(N):\n",
    "    c = (8*math.exp(1.25)) / (math.pi*math.sqrt(15))\n",
    "    N = math.ceil(N * c)\n",
    "    x = sample_inverse_de(0,1,N)\n",
    "    y = sample_inverse_de(0,1,N)\n",
    "    ac_bound = np.exp(-(8*(x*x-0.5*x*y+y*y)/15) + np.abs(x) + np.abs(y)-1.25)\n",
    "    u = np.random.rand(N)\n",
    "    sample = np.array(list(zip(x[u<ac_bound],y[u<ac_bound])))\n",
    "    return len(sample), sample"
   ]
  },
  {
   "cell_type": "code",
   "execution_count": 8,
   "metadata": {},
   "outputs": [],
   "source": [
    "len_gaussian_2d_sample, gaussian_2d_sample = sample_ar_gaussian_2d(1000)"
   ]
  },
  {
   "cell_type": "code",
   "execution_count": 9,
   "metadata": {},
   "outputs": [
    {
     "data": {
      "text/plain": [
       "1012"
      ]
     },
     "execution_count": 9,
     "metadata": {},
     "output_type": "execute_result"
    }
   ],
   "source": [
    "len_gaussian_2d_sample"
   ]
  },
  {
   "cell_type": "code",
   "execution_count": 10,
   "metadata": {},
   "outputs": [
    {
     "data": {
      "text/plain": [
       "array([[1.        , 0.27850627],\n",
       "       [0.27850627, 1.        ]])"
      ]
     },
     "execution_count": 10,
     "metadata": {},
     "output_type": "execute_result"
    }
   ],
   "source": [
    "np.corrcoef(gaussian_2d_sample[:,:1000].T)"
   ]
  },
  {
   "cell_type": "markdown",
   "metadata": {},
   "source": [
    "**3. Metropolis-Hasting产生标准正态分布，转移概率为$g(x|y)=\\frac{1}{2}e^{-|x-y|}$. 产生1000个样本，据此计算95%分位数，97.5%分位数，方差。**"
   ]
  },
  {
   "cell_type": "code",
   "execution_count": 11,
   "metadata": {},
   "outputs": [],
   "source": [
    "def density_gaussian_std(x):\n",
    "    return np.exp(-x**2/2)/np.sqrt(2*np.pi)"
   ]
  },
  {
   "cell_type": "code",
   "execution_count": 12,
   "metadata": {},
   "outputs": [],
   "source": [
    "def sample_mh_gaussian_std(N):\n",
    "    x = 0\n",
    "    burn_in = 30000\n",
    "    for i in range(burn_in):\n",
    "        y = sample_inverse_de(x,1,1)\n",
    "        r = density_gaussian_std(y)/density_gaussian_std(x)\n",
    "        if r > 1:\n",
    "            x = y\n",
    "        else:\n",
    "            u = np.random.rand()\n",
    "            if u < r:\n",
    "                x = y\n",
    "    sample = np.zeros(N)\n",
    "    for i in range(N):\n",
    "        y = sample_inverse_de(x,1,1)\n",
    "        r = density_gaussian_std(y)/density_gaussian_std(x)\n",
    "        if r > 1:\n",
    "            sample[i] = y\n",
    "            x = y\n",
    "        else:\n",
    "            u = np.random.rand()\n",
    "            if u < r:\n",
    "                sample[i] = y\n",
    "                x = y\n",
    "            else:\n",
    "                sample[i] = x\n",
    "    return len(sample), sample"
   ]
  },
  {
   "cell_type": "code",
   "execution_count": 13,
   "metadata": {},
   "outputs": [],
   "source": [
    "len_gaussian_std_sample, gaussian_std_sample = sample_mh_gaussian_std(1000)"
   ]
  },
  {
   "cell_type": "code",
   "execution_count": 14,
   "metadata": {},
   "outputs": [
    {
     "data": {
      "text/plain": [
       "1.9819708900147883"
      ]
     },
     "execution_count": 14,
     "metadata": {},
     "output_type": "execute_result"
    }
   ],
   "source": [
    "np.percentile(gaussian_std_sample, 95)"
   ]
  },
  {
   "cell_type": "code",
   "execution_count": 15,
   "metadata": {},
   "outputs": [
    {
     "data": {
      "text/plain": [
       "2.3128811315753777"
      ]
     },
     "execution_count": 15,
     "metadata": {},
     "output_type": "execute_result"
    }
   ],
   "source": [
    "np.percentile(gaussian_std_sample, 97.5)"
   ]
  },
  {
   "cell_type": "code",
   "execution_count": 16,
   "metadata": {},
   "outputs": [
    {
     "data": {
      "text/plain": [
       "0.9926200691878266"
      ]
     },
     "execution_count": 16,
     "metadata": {},
     "output_type": "execute_result"
    }
   ],
   "source": [
    "np.var(gaussian_std_sample, ddof = 1)"
   ]
  },
  {
   "cell_type": "code",
   "execution_count": 17,
   "metadata": {},
   "outputs": [
    {
     "data": {
      "image/png": "[encoded data removed]",
      "text/plain": [
       "<Figure size 432x288 with 1 Axes>"
      ]
     },
     "metadata": {
      "needs_background": "light"
     },
     "output_type": "display_data"
    }
   ],
   "source": [
    "plt.hist(gaussian_std_sample[:500],bins=25,density=True)\n",
    "plt.title(\"Gaussian\")\n",
    "plt.ylabel(\"sample density\")\n",
    "plt.show()"
   ]
  },
  {
   "cell_type": "markdown",
   "metadata": {},
   "source": [
    "**4. X服从标准正态分布，估计$\\theta = P(X<1)$，给出令估计的方差小于等于$10^{-6}$时各方法所需样本量的数量级。**"
   ]
  },
  {
   "cell_type": "markdown",
   "metadata": {},
   "source": [
    "(1)$\\theta = \\int_{-\\infty}^{1}f(x)dx$，用标准正态分布采样。"
   ]
  },
  {
   "cell_type": "code",
   "execution_count": 18,
   "metadata": {},
   "outputs": [
    {
     "data": {
      "text/plain": [
       "(0.841, 1.3373237323732859e-05)"
      ]
     },
     "execution_count": 18,
     "metadata": {},
     "output_type": "execute_result"
    }
   ],
   "source": [
    "N = 10000\n",
    "sample = np.random.normal(loc=0.0, scale=1.0, size=N)\n",
    "h = np.array([(sample<1)+0])\n",
    "theta = np.sum(h) / N\n",
    "var = (np.linalg.norm(h-theta, ord=2))**2 / (N*(N-1))\n",
    "theta, var"
   ]
  },
  {
   "cell_type": "code",
   "execution_count": 19,
   "metadata": {},
   "outputs": [
    {
     "data": {
      "text/plain": [
       "(0.8398777777777777, 1.4942732271788046e-06)"
      ]
     },
     "execution_count": 19,
     "metadata": {},
     "output_type": "execute_result"
    }
   ],
   "source": [
    "N = 90000\n",
    "sample = np.random.normal(loc=0.0, scale=1.0, size=N)\n",
    "h = np.array([(sample<1)+0])\n",
    "theta = np.sum(h) / N\n",
    "var = (np.linalg.norm(h-theta, ord=2))**2 / (N*(N-1))\n",
    "theta, var"
   ]
  },
  {
   "cell_type": "markdown",
   "metadata": {},
   "source": [
    "估计的方差小于等于$10^{-6}$时所需样本量的数量级为$10^{5}$."
   ]
  },
  {
   "cell_type": "markdown",
   "metadata": {},
   "source": [
    "(2)$\\theta = 1-\\frac{1}{2}P(|X|>1)$，用标准正态分布采样。"
   ]
  },
  {
   "cell_type": "code",
   "execution_count": 20,
   "metadata": {},
   "outputs": [
    {
     "data": {
      "text/plain": [
       "(0.8469, 1.2621213371336748e-05)"
      ]
     },
     "execution_count": 20,
     "metadata": {},
     "output_type": "execute_result"
    }
   ],
   "source": [
    "N = 10000\n",
    "sample = np.random.normal(loc=0.0, scale=1.0, size=N)\n",
    "h = np.array([(np.abs(sample)>1)+0])\n",
    "theta = 1 - np.sum(h) / (2*N)\n",
    "var = (np.linalg.norm(h-theta, ord=2))**2 / (4*N*(N-1))\n",
    "theta, var"
   ]
  },
  {
   "cell_type": "code",
   "execution_count": 21,
   "metadata": {},
   "outputs": [
    {
     "data": {
      "text/plain": [
       "(0.8416777777777777, 1.3667950237165486e-06)"
      ]
     },
     "execution_count": 21,
     "metadata": {},
     "output_type": "execute_result"
    }
   ],
   "source": [
    "N = 90000\n",
    "sample = np.random.normal(loc=0.0, scale=1.0, size=N)\n",
    "h = np.array([(np.abs(sample)>1)+0])\n",
    "theta = 1 - np.sum(h) / (2*N)\n",
    "var = (np.linalg.norm(h-theta, ord=2))**2 / (4*N*(N-1))\n",
    "theta, var"
   ]
  },
  {
   "cell_type": "markdown",
   "metadata": {},
   "source": [
    "估计的方差小于等于$10^{-6}$时所需样本量的数量级为$10^{5}$."
   ]
  },
  {
   "cell_type": "markdown",
   "metadata": {},
   "source": [
    "(3)$\\theta = \\frac{1}{2} + P(0<X<1) = \\frac{1}{2} + \\int_{0}^{1}f(x)dx$，用标准正态分布采样。"
   ]
  },
  {
   "cell_type": "code",
   "execution_count": 22,
   "metadata": {},
   "outputs": [
    {
     "data": {
      "text/plain": [
       "(0.8392999999999999, 2.2419792979298846e-05)"
      ]
     },
     "execution_count": 22,
     "metadata": {},
     "output_type": "execute_result"
    }
   ],
   "source": [
    "N = 10000\n",
    "sample = np.random.normal(loc=0.0, scale=1.0, size=N)\n",
    "h = np.array([np.logical_and(sample>0,sample<1)+0])\n",
    "theta = 0.5 + np.sum(h) / N\n",
    "var = np.linalg.norm(h-theta+0.5, ord=2)**2 / (N*(N-1))\n",
    "theta, var"
   ]
  },
  {
   "cell_type": "code",
   "execution_count": 23,
   "metadata": {},
   "outputs": [
    {
     "data": {
      "text/plain": [
       "(0.8441777777777778, 2.5080215898146706e-06)"
      ]
     },
     "execution_count": 23,
     "metadata": {},
     "output_type": "execute_result"
    }
   ],
   "source": [
    "N = 90000\n",
    "sample = np.random.normal(loc=0.0, scale=1.0, size=N)\n",
    "h = np.array([np.logical_and(sample>0,sample<1)+0])\n",
    "theta = 0.5 + np.sum(h) / N\n",
    "var = np.linalg.norm(h-theta+0.5, ord=2)**2 / (N*(N-1))\n",
    "theta, var"
   ]
  },
  {
   "cell_type": "markdown",
   "metadata": {},
   "source": [
    "估计的方差小于等于$10^{-6}$时所需样本量的数量级为$10^{5}$."
   ]
  },
  {
   "cell_type": "markdown",
   "metadata": {},
   "source": [
    "(4)$\\theta = \\frac{1}{2} + P(0<X<1) = \\frac{1}{2} + \\int_{0}^{1}f(x)dx$，用$U(0,1)$分布采样。"
   ]
  },
  {
   "cell_type": "code",
   "execution_count": 24,
   "metadata": {},
   "outputs": [
    {
     "data": {
      "text/plain": [
       "(0.8416703836162629, 2.540406316762048e-06)"
      ]
     },
     "execution_count": 24,
     "metadata": {},
     "output_type": "execute_result"
    }
   ],
   "source": [
    "N = 900\n",
    "x = np.random.rand(N)\n",
    "h = np.exp(-0.5*x*x) / np.sqrt(2*np.pi)\n",
    "theta = 0.5 + np.sum(h) / N\n",
    "var = np.linalg.norm(h-theta+0.5, ord=2)**2 / (N*(N-1))\n",
    "theta, var"
   ]
  },
  {
   "cell_type": "code",
   "execution_count": 25,
   "metadata": {},
   "outputs": [
    {
     "data": {
      "text/plain": [
       "(0.839098998020628, 2.4034415509903063e-05)"
      ]
     },
     "execution_count": 25,
     "metadata": {},
     "output_type": "execute_result"
    }
   ],
   "source": [
    "N = 100\n",
    "x = np.random.rand(N)\n",
    "h = np.exp(-0.5*x*x) / np.sqrt(2*np.pi)\n",
    "theta = 0.5 + np.sum(h) / N\n",
    "var = np.linalg.norm(h-theta+0.5, ord=2)**2 / (N*(N-1))\n",
    "theta, var"
   ]
  },
  {
   "cell_type": "markdown",
   "metadata": {},
   "source": [
    "估计的方差小于等于$10^{-6}$时所需样本量的数量级为$10^{3}$."
   ]
  },
  {
   "cell_type": "markdown",
   "metadata": {},
   "source": [
    "(5)$\\theta = \\frac{1}{2} + P(0<X<1) = \\frac{1}{2} + \\int_{0}^{1}f(x)dx$，用importance function为$p(x) = \\frac{e}{e-1}e^{-x},0 \\leq x \\leq 1$分布采样。"
   ]
  },
  {
   "cell_type": "code",
   "execution_count": 26,
   "metadata": {},
   "outputs": [],
   "source": [
    "def sample_inverse_exp(N):\n",
    "    u = np.random.rand(N)\n",
    "    x = -np.log(1-(np.e-1)*u/np.e)\n",
    "    return x"
   ]
  },
  {
   "cell_type": "code",
   "execution_count": 27,
   "metadata": {},
   "outputs": [
    {
     "data": {
      "text/plain": [
       "(0.8421724514899398, 2.8373083893179666e-06)"
      ]
     },
     "execution_count": 27,
     "metadata": {},
     "output_type": "execute_result"
    }
   ],
   "source": [
    "N = 900\n",
    "x = sample_inverse_exp(N)\n",
    "w = (np.e-1) * np.exp(x) / np.e\n",
    "h = np.exp(-0.5*x*x) / np.sqrt(2*np.pi)\n",
    "theta = 0.5 + np.dot(w,h) / N\n",
    "var = np.linalg.norm(w*h-theta+0.5, ord=2)**2 / (N*(N-1))\n",
    "theta, var"
   ]
  },
  {
   "cell_type": "code",
   "execution_count": 28,
   "metadata": {},
   "outputs": [
    {
     "data": {
      "text/plain": [
       "(0.8381404686036662, 2.7890670858438952e-05)"
      ]
     },
     "execution_count": 28,
     "metadata": {},
     "output_type": "execute_result"
    }
   ],
   "source": [
    "N = 100\n",
    "x = sample_inverse_exp(N)\n",
    "w = (np.e-1) * np.exp(x) / np.e\n",
    "h = np.exp(-0.5*x*x) / np.sqrt(2*np.pi)\n",
    "theta = 0.5 + np.dot(w,h) / N\n",
    "var = np.linalg.norm(w*h-theta+0.5, ord=2)**2 / (N*(N-1))\n",
    "theta, var"
   ]
  },
  {
   "cell_type": "markdown",
   "metadata": {},
   "source": [
    "估计的方差小于等于$10^{-6}$时所需样本量的数量级为$10^{3}$."
   ]
  },
  {
   "cell_type": "markdown",
   "metadata": {},
   "source": [
    "(6)$\\theta = \\frac{1}{2} + P(0<X<1) = \\frac{1}{2} + \\int_{0}^{1}f(x)dx$，用$U(0,1)$分布采样并使用对偶抽样缩减方差。"
   ]
  },
  {
   "cell_type": "code",
   "execution_count": 29,
   "metadata": {},
   "outputs": [
    {
     "data": {
      "text/plain": [
       "(0.8411069612043289, 2.6623438693123926e-06)"
      ]
     },
     "execution_count": 29,
     "metadata": {},
     "output_type": "execute_result"
    }
   ],
   "source": [
    "N = 900\n",
    "N = math.ceil(0.5*N)*2\n",
    "x = np.random.rand(math.ceil(0.5*N))\n",
    "x = np.concatenate((x,1-x))\n",
    "h = np.exp(-0.5*x*x) / np.sqrt(2*np.pi)\n",
    "theta = 0.5 + np.sum(h) / N\n",
    "var = np.linalg.norm(h-theta+0.5, ord=2)**2 / (N*(N-1))\n",
    "theta, var"
   ]
  },
  {
   "cell_type": "code",
   "execution_count": 30,
   "metadata": {},
   "outputs": [
    {
     "data": {
      "text/plain": [
       "(0.8423366756253328, 2.16302543414796e-05)"
      ]
     },
     "execution_count": 30,
     "metadata": {},
     "output_type": "execute_result"
    }
   ],
   "source": [
    "N = 100\n",
    "N = math.ceil(0.5*N)*2\n",
    "x = np.random.rand(math.ceil(0.5*N))\n",
    "x = np.concatenate((x,1-x))\n",
    "h = np.exp(-0.5*x*x) / np.sqrt(2*np.pi)\n",
    "theta = 0.5 + np.sum(h) / N\n",
    "var = np.linalg.norm(h-theta+0.5, ord=2)**2 / (N*(N-1))\n",
    "theta, var"
   ]
  },
  {
   "cell_type": "markdown",
   "metadata": {},
   "source": [
    "估计的方差小于等于$10^{-6}$时所需样本量的数量级为$10^{3}$."
   ]
  },
  {
   "cell_type": "markdown",
   "metadata": {},
   "source": [
    "(7)$\\theta = \\frac{1}{2} + P(0<X<1) = \\frac{1}{2} + \\int_{0}^{1}f(x)dx$，用$U(0,1)$分布采样并使用对偶抽样和控制变量缩减方差。"
   ]
  },
  {
   "cell_type": "code",
   "execution_count": 31,
   "metadata": {},
   "outputs": [
    {
     "data": {
      "text/plain": [
       "(0.8413486627198006, 2.5599689926404156e-06)"
      ]
     },
     "execution_count": 31,
     "metadata": {},
     "output_type": "execute_result"
    }
   ],
   "source": [
    "N = 900\n",
    "N = math.ceil(0.5*N)*2\n",
    "x = np.random.rand(math.ceil(0.5*N))\n",
    "x = np.concatenate((x,1-x))\n",
    "h = np.exp(-0.5*x*x) / np.sqrt(2*np.pi)\n",
    "h_c = h - np.sum(h) / N\n",
    "phi_c = -x*x + x - 1/6\n",
    "lam = np.dot(h_c,phi_c) / np.linalg.norm(phi_c, ord=2)**2\n",
    "theta = 0.5 + (np.sum(h)-lam*np.sum(phi_c)) / N\n",
    "var = np.linalg.norm(h-lam*phi_c-theta+0.5, ord=2)**2 / (N*(N-1))\n",
    "theta, var"
   ]
  },
  {
   "cell_type": "code",
   "execution_count": 32,
   "metadata": {},
   "outputs": [
    {
     "data": {
      "text/plain": [
       "(0.8412887864578322, 2.651108100887064e-05)"
      ]
     },
     "execution_count": 32,
     "metadata": {},
     "output_type": "execute_result"
    }
   ],
   "source": [
    "N = 100\n",
    "N = math.ceil(0.5*N)*2\n",
    "x = np.random.rand(math.ceil(0.5*N))\n",
    "x = np.concatenate((x,1-x))\n",
    "h = np.exp(-0.5*x*x) / np.sqrt(2*np.pi)\n",
    "h_c = h - np.sum(h) / N\n",
    "phi_c = -x*x + x - 1/6\n",
    "lam = np.dot(h_c,phi_c) / np.linalg.norm(phi_c, ord=2)**2\n",
    "theta = 0.5 + (np.sum(h)-lam*np.sum(phi_c)) / N\n",
    "var = np.linalg.norm(h-lam*phi_c-theta+0.5, ord=2)**2 / (N*(N-1))\n",
    "theta, var"
   ]
  },
  {
   "cell_type": "markdown",
   "metadata": {},
   "source": [
    "估计的方差小于等于$10^{-6}$时所需样本量的数量级为$10^{3}$."
   ]
  },
  {
   "cell_type": "markdown",
   "metadata": {},
   "source": [
    "**5. $ln(X)$服从标准正态分布，$lnY = -2 + 1.5lnX + \\epsilon$，$\\epsilon$服从标准正态分布，与$X$独立。估计$\\theta = E(Y)$，比较令估计的方差为$10^{-6}$时标准MC方法与Rao-Blackwell方法所需样本量的数量级。**"
   ]
  },
  {
   "cell_type": "code",
   "execution_count": 33,
   "metadata": {},
   "outputs": [
    {
     "data": {
      "text/plain": [
       "(0.6842768770301606, 1.0299573612112647e-05)"
      ]
     },
     "execution_count": 33,
     "metadata": {},
     "output_type": "execute_result"
    }
   ],
   "source": [
    "N = 1000000\n",
    "lx = np.random.normal(loc=0.0, scale=1.0, size=N)\n",
    "epi = np.random.normal(loc=0.0, scale=1.0, size=N)\n",
    "sample = np.exp(1.5*lx+epi-2)\n",
    "theta = np.sum(sample) / N\n",
    "var = np.linalg.norm(sample-theta, ord=2)**2 / (N*(N-1))\n",
    "theta, var"
   ]
  },
  {
   "cell_type": "code",
   "execution_count": 34,
   "metadata": {},
   "outputs": [
    {
     "data": {
      "text/plain": [
       "(0.6881082510923466, 4.6589671576802225e-06)"
      ]
     },
     "execution_count": 34,
     "metadata": {},
     "output_type": "execute_result"
    }
   ],
   "source": [
    "N = 3000000\n",
    "lx = np.random.normal(loc=0.0, scale=1.0, size=N)\n",
    "epi = np.random.normal(loc=0.0, scale=1.0, size=N)\n",
    "sample = np.exp(1.5*lx+epi-2)\n",
    "theta = np.sum(sample) / N\n",
    "var = np.linalg.norm(sample-theta, ord=2)**2 / (N*(N-1))\n",
    "theta, var"
   ]
  },
  {
   "cell_type": "markdown",
   "metadata": {},
   "source": [
    "标准MC方法估计的方差为$10^{-6}$时所需样本量的数量级为$10^{6}$."
   ]
  },
  {
   "cell_type": "code",
   "execution_count": 35,
   "metadata": {},
   "outputs": [
    {
     "data": {
      "text/plain": [
       "(0.6858050989423096, 3.998627503275735e-05)"
      ]
     },
     "execution_count": 35,
     "metadata": {},
     "output_type": "execute_result"
    }
   ],
   "source": [
    "N = 100000\n",
    "lx = np.random.normal(loc=0.0, scale=1.0, size=N)\n",
    "sample = np.exp(1.5*(lx-1))\n",
    "theta = np.sum(sample) / N\n",
    "var = np.linalg.norm(sample-theta, ord=2)**2 / (N*(N-1))\n",
    "theta, var"
   ]
  },
  {
   "cell_type": "code",
   "execution_count": 36,
   "metadata": {},
   "outputs": [
    {
     "data": {
      "text/plain": [
       "(0.687602521607281, 4.632908566203816e-06)"
      ]
     },
     "execution_count": 36,
     "metadata": {},
     "output_type": "execute_result"
    }
   ],
   "source": [
    "N = 900000\n",
    "lx = np.random.normal(loc=0.0, scale=1.0, size=N)\n",
    "sample = np.exp(1.5*(lx-1))\n",
    "theta = np.sum(sample) / N\n",
    "var = np.linalg.norm(sample-theta, ord=2)**2 / (N*(N-1))\n",
    "theta, var"
   ]
  },
  {
   "cell_type": "markdown",
   "metadata": {},
   "source": [
    "Rao-Blackwell方法估计的方差为$10^{-6}$时所需样本量的数量级为$10^{5}$."
   ]
  },
  {
   "cell_type": "markdown",
   "metadata": {},
   "source": [
    "**6. 对腐蚀损失y和含铁量x做线性回归$y = \\beta_{0}+\\beta_{1}x+\\epsilon$**"
   ]
  },
  {
   "cell_type": "code",
   "execution_count": 37,
   "metadata": {},
   "outputs": [],
   "source": [
    "data = pd.read_csv('Ex6.txt',header=None,sep=\"\\t\")\n",
    "data = data.iloc[:,1:].to_numpy()"
   ]
  },
  {
   "cell_type": "markdown",
   "metadata": {},
   "source": [
    "(1)拟合直线得到$\\hat{\\beta_{0}},\\hat{\\beta_{1}}$，并估计它们的方差和协方差。"
   ]
  },
  {
   "cell_type": "code",
   "execution_count": 38,
   "metadata": {},
   "outputs": [],
   "source": [
    "[beta1,beta0] = np.polyfit(data[0,:],data[1,:],deg=1)\n",
    "epi_d = data[1,:] - beta0 - beta1*data[0,:]\n",
    "n = len(data[0,:])"
   ]
  },
  {
   "cell_type": "code",
   "execution_count": 39,
   "metadata": {},
   "outputs": [
    {
     "data": {
      "text/plain": [
       "(129.786599277239, -24.019893445295757)"
      ]
     },
     "execution_count": 39,
     "metadata": {},
     "output_type": "execute_result"
    }
   ],
   "source": [
    "beta0,beta1"
   ]
  },
  {
   "cell_type": "code",
   "execution_count": 40,
   "metadata": {},
   "outputs": [],
   "source": [
    "def bootstrap(x,beta0,beta1,epi_d,n,B):\n",
    "    sample_beta0 = np.zeros(B)\n",
    "    sample_beta1 = np.zeros(B)\n",
    "    for i in range(B):\n",
    "        epi_sample = np.random.choice(epi_d,n)\n",
    "        y_sample = beta0 + beta1*x + epi_sample\n",
    "        [beta1_sample,beta0_sample] = np.polyfit(x,y_sample,deg=1)\n",
    "        sample_beta0[i] = beta0_sample\n",
    "        sample_beta1[i] = beta1_sample\n",
    "    return sample_beta0,sample_beta1"
   ]
  },
  {
   "cell_type": "code",
   "execution_count": 41,
   "metadata": {},
   "outputs": [],
   "source": [
    "B = 10000\n",
    "sample_beta0,sample_beta1 = bootstrap(data[0,:],beta0,beta1,epi_d,n,B)\n",
    "var_beta0 = np.linalg.norm(sample_beta0-np.mean(sample_beta0), ord=2)**2 / (B-1)\n",
    "var_beta1 = np.linalg.norm(sample_beta1-np.mean(sample_beta1), ord=2)**2 / (B-1)\n",
    "cor_beta0_beta1 = np.dot(sample_beta0-np.mean(sample_beta0), sample_beta1-np.mean(sample_beta1)) / (B-1)"
   ]
  },
  {
   "cell_type": "code",
   "execution_count": 42,
   "metadata": {},
   "outputs": [
    {
     "data": {
      "text/plain": [
       "(1.6673124269284905, 1.4150900743686798, -1.2312555715244515)"
      ]
     },
     "execution_count": 42,
     "metadata": {},
     "output_type": "execute_result"
    }
   ],
   "source": [
    "var_beta0,var_beta1,cor_beta0_beta1"
   ]
  },
  {
   "cell_type": "markdown",
   "metadata": {},
   "source": [
    "(2)估计$\\theta = \\frac{\\beta1}{\\beta0}$并给出其方差的估计。"
   ]
  },
  {
   "cell_type": "code",
   "execution_count": 43,
   "metadata": {},
   "outputs": [
    {
     "data": {
      "text/plain": [
       "-0.18507221530619292"
      ]
     },
     "execution_count": 43,
     "metadata": {},
     "output_type": "execute_result"
    }
   ],
   "source": [
    "theta = beta1/beta0\n",
    "theta"
   ]
  },
  {
   "cell_type": "code",
   "execution_count": 44,
   "metadata": {},
   "outputs": [
    {
     "data": {
      "text/plain": [
       "0.05143562098266627"
      ]
     },
     "execution_count": 44,
     "metadata": {},
     "output_type": "execute_result"
    }
   ],
   "source": [
    "var_theta = var_beta0/beta1**2 + var_beta1*beta0**2/beta1**4 - 2*cor_beta0_beta1*beta0/beta1**3\n",
    "var_theta"
   ]
  },
  {
   "cell_type": "markdown",
   "metadata": {},
   "source": [
    "(3)用Bootstrap方法模拟估计$\\hat{\\theta}$的分布，并绘制直方图。"
   ]
  },
  {
   "cell_type": "code",
   "execution_count": 45,
   "metadata": {},
   "outputs": [],
   "source": [
    "sample_theta = sample_beta1/sample_beta0"
   ]
  },
  {
   "cell_type": "code",
   "execution_count": 46,
   "metadata": {},
   "outputs": [
    {
     "data": {
      "image/png": "[encoded data removed]",
      "text/plain": [
       "<Figure size 432x288 with 1 Axes>"
      ]
     },
     "metadata": {
      "needs_background": "light"
     },
     "output_type": "display_data"
    }
   ],
   "source": [
    "plt.hist(sample_theta,bins=50)\n",
    "plt.title(\"theta\")\n",
    "plt.ylabel(\"sample histgram\")\n",
    "plt.show()"
   ]
  },
  {
   "cell_type": "markdown",
   "metadata": {},
   "source": [
    "(4)给出估计$\\hat{\\theta}$的95%置信区间和95%t区间。"
   ]
  },
  {
   "cell_type": "code",
   "execution_count": 47,
   "metadata": {},
   "outputs": [
    {
     "data": {
      "text/plain": [
       "array([-0.17051251, -0.20071004])"
      ]
     },
     "execution_count": 47,
     "metadata": {},
     "output_type": "execute_result"
    }
   ],
   "source": [
    "interval_95 = theta - np.array([np.percentile(sample_theta-theta, 5/2), np.percentile(sample_theta-theta, 100-5/2)])\n",
    "interval_95"
   ]
  },
  {
   "cell_type": "code",
   "execution_count": 48,
   "metadata": {},
   "outputs": [],
   "source": [
    "def bootstrap_nested(x,beta0,beta1,epi_d,n,B):\n",
    "    sample_theta = np.zeros(B)\n",
    "    sample_theta_s = np.zeros(B)\n",
    "    for i in range(B):\n",
    "        epi_sample = np.random.choice(epi_d,n)\n",
    "        y_sample = beta0 + beta1*x + epi_sample\n",
    "        [beta1_sample,beta0_sample] = np.polyfit(x,y_sample,deg=1)\n",
    "        sample_theta[i] = beta1_sample/beta0_sample\n",
    "        for j in range(50):\n",
    "            sample_for_sample_theta = np.zeros(50)\n",
    "            epi_sample_for_sample = np.random.choice(epi_sample,n)\n",
    "            y_sample = beta0 + beta1*x + epi_sample_for_sample\n",
    "            [beta1_sample,beta0_sample] = np.polyfit(x,y_sample,deg=1)\n",
    "            sample_for_sample_theta[j] = beta1_sample/beta0_sample\n",
    "        sample_theta_s[i] = np.linalg.norm(sample_for_sample_theta-np.mean(sample_for_sample_theta), ord=2) / 7\n",
    "    return sample_theta,sample_theta_s"
   ]
  },
  {
   "cell_type": "code",
   "execution_count": 49,
   "metadata": {},
   "outputs": [],
   "source": [
    "B = 1000\n",
    "sample_theta,sample_theta_s = bootstrap_nested(data[0,:],beta0,beta1,epi_d,n,B)\n",
    "sample_theta_n = (sample_theta - theta) / sample_theta_s"
   ]
  },
  {
   "cell_type": "code",
   "execution_count": 50,
   "metadata": {},
   "outputs": [
    {
     "data": {
      "text/plain": [
       "array([-0.1811645 , -0.18960275])"
      ]
     },
     "execution_count": 50,
     "metadata": {},
     "output_type": "execute_result"
    }
   ],
   "source": [
    "theta_s = np.sqrt(np.linalg.norm(sample_theta-np.mean(sample_theta), ord=2)**2 / (B-1))\n",
    "interval_t_95 = theta - theta_s*np.array([np.percentile(sample_theta_n, 5/2), np.percentile(sample_theta_n, 100-5/2)])\n",
    "interval_t_95"
   ]
  },
  {
   "cell_type": "markdown",
   "metadata": {},
   "source": [
    "(5)用Bootstrap矫正$\\hat{\\theta}$的偏倚。"
   ]
  },
  {
   "cell_type": "code",
   "execution_count": 51,
   "metadata": {},
   "outputs": [
    {
     "data": {
      "text/plain": [
       "-0.18516777287384556"
      ]
     },
     "execution_count": 51,
     "metadata": {},
     "output_type": "execute_result"
    }
   ],
   "source": [
    "theta_new = 2*theta - np.mean(sample_theta)\n",
    "theta_new"
   ]
  }
 ],
 "metadata": {
  "kernelspec": {
   "display_name": "Python 3",
   "language": "python",
   "name": "python3"
  },
  "language_info": {
   "codemirror_mode": {
    "name": "ipython",
    "version": 3
   },
   "file_extension": ".py",
   "mimetype": "text/x-python",
   "name": "python",
   "nbconvert_exporter": "python",
   "pygments_lexer": "ipython3",
   "version": "3.7.6"
  }
 },
 "nbformat": 4,
 "nbformat_minor": 4
}
